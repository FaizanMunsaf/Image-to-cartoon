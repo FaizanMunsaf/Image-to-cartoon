{
 "cells": [
  {
   "cell_type": "markdown",
   "id": "921fde06",
   "metadata": {},
   "source": [
    "# Image to Cartoon"
   ]
  },
  {
   "cell_type": "code",
   "execution_count": 1,
   "id": "99f2e937",
   "metadata": {},
   "outputs": [],
   "source": [
    "import cv2\n",
    "img = cv2.imread(\"faizan.jpg\")"
   ]
  },
  {
   "cell_type": "code",
   "execution_count": 2,
   "id": "ab0e0a86",
   "metadata": {},
   "outputs": [],
   "source": [
    "cv2.imshow(\"Output\", img)\n",
    "grayImg = cv2.cvtColor(img,cv2.COLOR_BGR2GRAY)\n",
    "blrImg = cv2.medianBlur(grayImg,7)\n",
    "edges = cv2.adaptiveThreshold(blrImg,255,cv2.ADAPTIVE_THRESH_MEAN_C,cv2.THRESH_BINARY,9,9)\n",
    "\n",
    "color = cv2.bilateralFilter(img,7,250,250)\n",
    "\n",
    "cartoon = cv2.bitwise_and(color,color,mask=edges)\n",
    "\n",
    "cv2.imshow(\"Output2\", blrImg)\n",
    "cv2.imshow(\"Output3\",grayImg)\n",
    "cv2.imshow(\"Output4\",edges)\n",
    "cv2.imshow(\"Output5\",cartoon)"
   ]
  },
  {
   "cell_type": "code",
   "execution_count": null,
   "id": "d26d3017",
   "metadata": {},
   "outputs": [],
   "source": [
    "cv2.waitKey(0)\n",
    "cv2.destroyAllWindows()"
   ]
  },
  {
   "cell_type": "code",
   "execution_count": null,
   "id": "5e0ac0e5",
   "metadata": {},
   "outputs": [],
   "source": []
  }
 ],
 "metadata": {
  "kernelspec": {
   "display_name": "Python 3",
   "language": "python",
   "name": "python3"
  },
  "language_info": {
   "codemirror_mode": {
    "name": "ipython",
    "version": 3
   },
   "file_extension": ".py",
   "mimetype": "text/x-python",
   "name": "python",
   "nbconvert_exporter": "python",
   "pygments_lexer": "ipython3",
   "version": "3.8.8"
  }
 },
 "nbformat": 4,
 "nbformat_minor": 5
}
